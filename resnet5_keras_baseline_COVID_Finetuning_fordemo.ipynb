{
  "nbformat": 4,
  "nbformat_minor": 0,
  "metadata": {
    "kernelspec": {
      "display_name": "Python 3",
      "language": "python",
      "name": "python3"
    },
    "language_info": {
      "codemirror_mode": {
        "name": "ipython",
        "version": 3
      },
      "file_extension": ".py",
      "mimetype": "text/x-python",
      "name": "python",
      "nbconvert_exporter": "python",
      "pygments_lexer": "ipython3",
      "version": "3.6.7"
    },
    "colab": {
      "name": "resnet5_keras_baseline_COVID_Finetuning_24April.ipynb",
      "provenance": [],
      "collapsed_sections": [],
      "machine_shape": "hm",
      "include_colab_link": true
    }
  },
  "cells": [
    {
      "cell_type": "markdown",
      "metadata": {
        "id": "view-in-github",
        "colab_type": "text"
      },
      "source": [
        "<a href=\"https://colab.research.google.com/github/VeereshShringari/COVID-testing/blob/master/resnet5_keras_baseline_COVID_Finetuning_fordemo.ipynb\" target=\"_parent\"><img src=\"https://colab.research.google.com/assets/colab-badge.svg\" alt=\"Open In Colab\"/></a>"
      ]
    },
    {
      "cell_type": "markdown",
      "metadata": {
        "id": "kApyA4pB-TqH",
        "colab_type": "text"
      },
      "source": [
        "### ResNet50 Keras baseline model\n",
        "\n",
        "This notebook takes you through some important steps in building a deep convnet in Keras for multilabel classification of brain CT scans. \n",
        "\n",
        "\n",
        "*Update (1):*\n",
        "* *training for 4 epochs instead of 3.*\n",
        "* *batch size lowered to 16 from 32.*\n",
        "* *training without learning rate decay.*\n",
        "* *Weighted BCE instead of \"plain\" BCE*\n",
        "* *training data lowered to 80% from 90%.*\n",
        "\n",
        "\n",
        "*Update (2):*\n",
        "* *adding competition metric for training*\n",
        "* *using custom Callback for validation and test sets instead of the `run()` function and 'global epochs'*\n",
        "* *training with \"plain\" BCE again*\n",
        "* *merging TestDataGenerator and TrainDataGenerator into one*\n",
        "* *adding undersampling (see inside `on_epoch_end`), will now run 6 epochs*\n",
        "\n",
        "*Update (3):*\n",
        "* *skipping/removing windowing (value clipping), but the transformation to Hounsfield Units is kept*\n",
        "* *removing initial layer (doing np.stack((img,)&ast;3, axis=-1)) instead*\n",
        "* *reducing learning rate to 5e-4 and add decay*\n",
        "* *increasing batch size to 32 from 16*\n",
        "* *Increasing training set to 90% of the data (10% for validation)*\n",
        "* *slight increase in undersampling*\n",
        "* *fixed some hardcoding for input dims/sizes*"
      ]
    },
    {
      "cell_type": "code",
      "metadata": {
        "id": "60ahCsN4EKAE",
        "colab_type": "code",
        "outputId": "018f4c74-f8f1-4ca1-b88d-7185ae930d59",
        "colab": {
          "base_uri": "https://localhost:8080/",
          "height": 34
        }
      },
      "source": [
        "!unzip data.zip"
      ],
      "execution_count": 0,
      "outputs": [
        {
          "output_type": "stream",
          "text": [
            "unzip:  cannot find or open data.zip, data.zip.zip or data.zip.ZIP.\n"
          ],
          "name": "stdout"
        }
      ]
    },
    {
      "cell_type": "code",
      "metadata": {
        "_cell_guid": "b1076dfc-b9ad-4769-8c92-a6c4dae69d19",
        "_uuid": "8f2839f25d086af736a60e9eeb907d3b93b6e0e5",
        "id": "D4RjvLfX-TqJ",
        "colab_type": "code",
        "outputId": "2a64f265-753c-4038-9087-60d55688750b",
        "colab": {
          "base_uri": "https://localhost:8080/",
          "height": 34
        }
      },
      "source": [
        "import collections\n",
        "from datetime import datetime\n",
        "from math import ceil, floor\n",
        "import matplotlib.pyplot as plt\n",
        "import numpy as np\n",
        "import os\n",
        "import pandas as pd\n",
        "from tqdm import tqdm_notebook as tqdm\n",
        "import sys\n",
        "\n",
        "\n",
        "\n",
        "import cv2\n",
        "import tensorflow as tf\n",
        "import keras\n",
        "\n",
        "\n",
        "from keras_applications.resnet import ResNet50\n",
        "from keras.preprocessing.image import load_img\n",
        "from keras.preprocessing.image import img_to_array\n",
        "from keras.preprocessing.image import ImageDataGenerator\n",
        "from sklearn.model_selection import ShuffleSplit\n",
        "\n",
        "from tensorflow.keras.applications import imagenet_utils\n",
        "preprocess_input = imagenet_utils.preprocess_input\n",
        "\n",
        "WEIGHTS_PATH = 'drive/My Drive/resnet50_weights_tf_dim_ordering_tf_kernels.h5'\n",
        "WEIGHTS_PATH_NO_TOP = 'resnet50_weights_tf_dim_ordering_tf_kernels_notop.h5'\n",
        "\n",
        "\n",
        "TEST_IMAGES_DIR = 'drive/My Drive/data/'\n",
        "TRAIN_IMAGES_DIR = 'drive/My Drive/data/'\n",
        "\n",
        "\n",
        "\n"
      ],
      "execution_count": 0,
      "outputs": [
        {
          "output_type": "stream",
          "text": [
            "Using TensorFlow backend.\n"
          ],
          "name": "stderr"
        }
      ]
    },
    {
      "cell_type": "markdown",
      "metadata": {
        "id": "Vu4oeW23yNu3",
        "colab_type": "text"
      },
      "source": [
        ""
      ]
    },
    {
      "cell_type": "code",
      "metadata": {
        "id": "yl7PogfSyN7a",
        "colab_type": "code",
        "outputId": "3f7478a0-9af9-4cb0-ac98-ee41f3592cfa",
        "colab": {
          "base_uri": "https://localhost:8080/",
          "height": 34
        }
      },
      "source": [
        "from google.colab import drive\n",
        "drive.mount('/content/drive',force_remount=True)"
      ],
      "execution_count": 0,
      "outputs": [
        {
          "output_type": "stream",
          "text": [
            "Mounted at /content/drive\n"
          ],
          "name": "stdout"
        }
      ]
    },
    {
      "cell_type": "code",
      "metadata": {
        "id": "jje61omNyOb1",
        "colab_type": "code",
        "outputId": "b9599b17-f411-403c-c8bd-7d500dfcad58",
        "colab": {
          "base_uri": "https://localhost:8080/",
          "height": 34
        }
      },
      "source": [
        "WEIGHTS_PATH"
      ],
      "execution_count": 0,
      "outputs": [
        {
          "output_type": "execute_result",
          "data": {
            "text/plain": [
              "'drive/My Drive/resnet50_weights_tf_dim_ordering_tf_kernels.h5'"
            ]
          },
          "metadata": {
            "tags": []
          },
          "execution_count": 4
        }
      ]
    },
    {
      "cell_type": "code",
      "metadata": {
        "id": "XrqKG4g_FRkp",
        "colab_type": "code",
        "outputId": "5d8a1d8d-8aa5-4893-d7e5-c4682ed868be",
        "colab": {
          "base_uri": "https://localhost:8080/",
          "height": 376
        }
      },
      "source": [
        "import IPython.display as display\n",
        "from PIL import Image\n",
        "import numpy as np\n",
        "import matplotlib.pyplot as plt\n",
        "import os\n",
        "import pathlib\n",
        "\n",
        "data_dir = pathlib.Path(\".\")\n",
        "images = list(data_dir.glob('drive/My Drive/data/*.jpg'))\n",
        "new_width = 3000\n",
        "new_height = 1000\n",
        "for image_path in images:\n",
        "    print(image_path)\n",
        "    im = cv2.imread(str(image_path))\n",
        "    #display.display(im)\n",
        "    width, height,_ = im.shape   # Get dimensions\n",
        "    if width < height:\n",
        "      M = cv2.getRotationMatrix2D((height/2,width/2),90,1)\n",
        "      im = cv2.warpAffine(im,M,(height,width))\n",
        "    plt.imshow(im.astype('uint8'))\n",
        "plt.show()"
      ],
      "execution_count": 0,
      "outputs": [
        {
          "output_type": "stream",
          "text": [
            "drive/My Drive/data/image1.jpg\n",
            "drive/My Drive/data/image5.jpg\n",
            "drive/My Drive/data/image4.jpg\n",
            "drive/My Drive/data/image3.jpg\n",
            "drive/My Drive/data/image2.jpg\n",
            "drive/My Drive/data/image8.jpg\n",
            "drive/My Drive/data/image9.jpg\n",
            "drive/My Drive/data/image6.jpg\n",
            "drive/My Drive/data/image0.jpg\n",
            "drive/My Drive/data/image7.jpg\n"
          ],
          "name": "stdout"
        },
        {
          "output_type": "display_data",
          "data": {
            "image/png": "[encoded data removed]",
            "text/plain": [
              "<Figure size 432x288 with 1 Axes>"
            ]
          },
          "metadata": {
            "tags": [],
            "needs_background": "light"
          }
        }
      ]
    },
    {
      "cell_type": "code",
      "metadata": {
        "id": "fqw-N5SPKdIu",
        "colab_type": "code",
        "outputId": "5439c231-fc73-44c3-a7e3-4cb9726e9320",
        "colab": {
          "base_uri": "https://localhost:8080/",
          "height": 34
        }
      },
      "source": [
        "im.shape"
      ],
      "execution_count": 0,
      "outputs": [
        {
          "output_type": "execute_result",
          "data": {
            "text/plain": [
              "(2045, 4478, 3)"
            ]
          },
          "metadata": {
            "tags": []
          },
          "execution_count": 6
        }
      ]
    },
    {
      "cell_type": "markdown",
      "metadata": {
        "id": "GmgwadgA-TqQ",
        "colab_type": "text"
      },
      "source": [
        "### 1. Helper functions\n",
        "\n",
        "* normalizing the pixel values between -1 and 1 \n",
        "* read and transform dcms to 3-channel inputs for e.g. ResNet50.\n",
        "\n",
        "\\* Source for windowing (although now partly removed from this kernel): https://www.kaggle.com/omission/eda-view-dicom-images-with-correct-windowing"
      ]
    },
    {
      "cell_type": "code",
      "metadata": {
        "_cell_guid": "79c7e3d0-c299-4dcb-8224-4455121ee9b0",
        "_uuid": "d629ff2d2480ee46fbb7e2d37f6b5fab8052498a",
        "id": "f0URQlqi-TqR",
        "colab_type": "code",
        "colab": {}
      },
      "source": [
        "def _normalize(img):\n",
        "    if img.max() == img.min():\n",
        "        return np.zeros(img.shape)-1\n",
        "    return 2 * (img - img.min())/(img.max() - img.min()) - 1\n",
        "\n",
        "\n",
        "  \n",
        "def _read(path, desired_size, augment_data=0, plot=False):\n",
        "    \"\"\"Will be used in DataGenerator\n",
        "    Loads image, crops and resizes. With optional image data augmentation.\n",
        "    We assume that the image has been centered. \n",
        "    Input:\n",
        "    ----------------------------------\n",
        "    desired_size     :  desired size for the image (tuple)\n",
        "    augment_data     :  nb of data augmented samples (int)\n",
        "    \"\"\"\n",
        "    new_width, new_height,_ = desired_size\n",
        "    print (path)\n",
        "    img = cv2.imread(path)\n",
        "    rows, cols,_ = img.shape\n",
        "    if rows < cols:  \n",
        "      M = cv2.getRotationMatrix2D((cols/2,rows/2),90,1)\n",
        "      img = cv2.warpAffine(img,M,(cols,rows))\n",
        "    res = cv2.resize(img, dsize=desired_size[:2], interpolation=cv2.INTER_CUBIC)\n",
        "    samples = np.expand_dims(res, 0)\n",
        "    if augment_data>0:\n",
        "        # create image data augmentation generator\n",
        "        datagen = ImageDataGenerator(rotation_range=90,\n",
        "                                     width_shift_range=[-100,100])\n",
        "        # prepare iterator\n",
        "        it = datagen.flow(samples, batch_size=1)\n",
        "        for i in range(augment_data):\n",
        "          batch = it.next()    # generate batch of images\n",
        "          image = batch[0]\n",
        "          samples = np.vstack((samples, np.expand_dims(image, 0)))\n",
        "          if plot:\n",
        "            plt.subplot(330 + 1 + i)\n",
        "            plt.imshow(batch[0].astype('uint8'))\n",
        "          #img = np.stack((res,)*3, axis=-1)\n",
        "    if plot: plt.show()\n",
        "    print('samples size in read:', samples.shape)\n",
        "    return samples\n"
      ],
      "execution_count": 0,
      "outputs": []
    },
    {
      "cell_type": "code",
      "metadata": {
        "id": "VO4vaCw7IfL3",
        "colab_type": "code",
        "outputId": "a2f9f01f-ccfd-4ab9-d5dd-c790a840c118",
        "colab": {
          "base_uri": "https://localhost:8080/",
          "height": 320
        }
      },
      "source": [
        "test = _read('drive/My Drive/data/image1.jpg',(512,512,3),9, plot=True)\n",
        "print(test.shape)"
      ],
      "execution_count": 0,
      "outputs": [
        {
          "output_type": "stream",
          "text": [
            "drive/My Drive/data/image1.jpg\n"
          ],
          "name": "stdout"
        },
        {
          "output_type": "display_data",
          "data": {
            "image/png": "[encoded data removed]",
            "text/plain": [
              "<Figure size 432x288 with 9 Axes>"
            ]
          },
          "metadata": {
            "tags": [],
            "needs_background": "light"
          }
        },
        {
          "output_type": "stream",
          "text": [
            "samples size in read: (10, 512, 512, 3)\n",
            "(10, 512, 512, 3)\n"
          ],
          "name": "stdout"
        }
      ]
    },
    {
      "cell_type": "code",
      "metadata": {
        "id": "5LXLCrMX7if2",
        "colab_type": "code",
        "colab": {}
      },
      "source": [
        ""
      ],
      "execution_count": 0,
      "outputs": []
    },
    {
      "cell_type": "code",
      "metadata": {
        "id": "tGSfWNhna91-",
        "colab_type": "code",
        "outputId": "0ea17c11-c630-4efd-ff08-4fb06345fb71",
        "colab": {
          "base_uri": "https://localhost:8080/",
          "height": 269
        }
      },
      "source": [
        "\n",
        "\n",
        "from numpy import expand_dims\n",
        "from keras.preprocessing.image import load_img\n",
        "from keras.preprocessing.image import img_to_array\n",
        "from keras.preprocessing.image import ImageDataGenerator\n",
        "import matplotlib.pyplot as plt\n",
        "import scipy as sc\n",
        "\n",
        "img = cv2.imread('drive/My Drive/data/image0.jpg')\n",
        "# convert to numpy array\n",
        "res = cv2.resize(img, dsize=(512, 512), interpolation=cv2.INTER_CUBIC)\n",
        "data = res\n",
        "# expand dimension to one sample\n",
        "\n",
        "samples = expand_dims(data, 0)\n",
        "# create image data augmentation generator\n",
        "datagen = ImageDataGenerator(rotation_range = 90, width_shift_range=[-100,100])\n",
        "# prepare iterator\n",
        "it = datagen.flow(samples, batch_size=1)\n",
        "for i in range(9):\n",
        "\t# define subplot\n",
        "\tplt.subplot(330 + 1 + i)\n",
        "\t# generate batch of images\n",
        "\tbatch = it.next()\n",
        "\t# convert to unsigned integers for viewing\n",
        "\timage = batch[0].astype('uint8')\n",
        "\t# plot raw pixel data\n",
        "\tplt.imshow(image)\n",
        "# show the figure\n",
        "plt.show()"
      ],
      "execution_count": 0,
      "outputs": [
        {
          "output_type": "display_data",
          "data": {
            "image/png": "[encoded data removed]",
            "text/plain": [
              "<Figure size 432x288 with 9 Axes>"
            ]
          },
          "metadata": {
            "tags": [],
            "needs_background": "light"
          }
        }
      ]
    },
    {
      "cell_type": "markdown",
      "metadata": {
        "id": "RVD3MWoh-TqW",
        "colab_type": "text"
      },
      "source": [
        "### 2. Data generators\n",
        "\n",
        "Inherits from keras.utils.Sequence object and thus should be safe for multiprocessing.\n"
      ]
    },
    {
      "cell_type": "code",
      "metadata": {
        "id": "GVupHBDB-TqX",
        "colab_type": "code",
        "colab": {}
      },
      "source": [
        "\n",
        "\n",
        "class DataGenerator(keras.utils.Sequence):\n",
        "    def __init__(self, list_IDs, img_labels, batch_size=1, img_size=(512, 512,3), \n",
        "                 img_dir=TRAIN_IMAGES_DIR, n_classes = 4, train =True,\n",
        "                 n_augment = 9, shuffle=True,\n",
        "                 *args, **kwargs):\n",
        "\n",
        "        self.list_IDs = list_IDs\n",
        "        self.indices = np.arange(len(self.list_IDs))\n",
        "        self.img_labels = img_labels ### contains col1: names of images for loading + col2(!exits fr test) for labels\n",
        "        self.n_classes = n_classes   ### nb of classes\n",
        "        self.n_augment = n_augment   ### nb of additional data samples\n",
        "        self.batch_size = batch_size\n",
        "        self.img_size = img_size    ###  desired image size: (width, height, n_channels)\n",
        "        self.img_dir = img_dir\n",
        "        self.shuffle = shuffle\n",
        "        self.train = train\n",
        "        self.on_epoch_end()\n",
        "\n",
        "    def __len__(self):\n",
        "        return int(ceil(len(self.indices) / self.batch_size))\n",
        "\n",
        "    def __getitem__(self, index):\n",
        "        indices = self.indices[index*self.batch_size: (index+1)*self.batch_size]\n",
        "        list_IDs_temp = [self.list_IDs[k] for k in indices]\n",
        "        if self.train:\n",
        "            X, Y = self.__data_generation(list_IDs_temp)\n",
        "            return X, Y\n",
        "        else:\n",
        "            X = self.__data_generation(list_IDs_temp)\n",
        "            return X\n",
        "        \n",
        "    def on_epoch_end(self):\n",
        "        self.indices = np.arange(len(self.list_IDs))\n",
        "        if self.shuffle == True:\n",
        "            np.random.shuffle(self.indices)\n",
        "\n",
        "    def __data_generation(self, list_IDs_temp):\n",
        "        print(\"Self image size\",self.img_size )\n",
        "        X = np.empty((self.batch_size * (self.n_augment + 1), *self.img_size))\n",
        "        \n",
        "        if self.train: # training phase\n",
        "            Y = np.zeros((self.batch_size * (self.n_augment + 1), self.n_classes),\n",
        "                          dtype=np.float32)\n",
        "        \n",
        "            for i, ID in enumerate(list_IDs_temp):\n",
        "              test = _read(self.img_dir+self.img_labels['ID'].loc[ID] +\".jpg\",\n",
        "                              self.img_size,  augment_data= self.n_augment, plot=False)\n",
        "              print(\"Dim data gen\",  test.shape)\n",
        "              X[i:(i +self.n_augment + 1),] = test\n",
        "              ### Convert label  into one hot vector\n",
        "              Y[i:(i +self.n_augment + 1), int(self.img_labels['label'].loc[ID])] = 1\n",
        "\n",
        "            return X, Y\n",
        "        \n",
        "        else: # test phase\n",
        "            for i, ID in enumerate(list_IDs_temp):\n",
        "                X[i,] = _read(self.img_dir+self.img_labels['ID'].loc[ID] +\".jpg\",\n",
        "                              self.img_size, augment_data=0, plot=False)      \n",
        "            return X"
      ],
      "execution_count": 0,
      "outputs": []
    },
    {
      "cell_type": "markdown",
      "metadata": {
        "id": "3dk9Plt--Tqe",
        "colab_type": "text"
      },
      "source": [
        "### 3a. loss function and metric"
      ]
    },
    {
      "cell_type": "code",
      "metadata": {
        "id": "Aj4BKXWH-Tqf",
        "colab_type": "code",
        "colab": {}
      },
      "source": [
        "from keras import backend as K\n",
        "\n",
        "def weighted_log_loss(y_true, y_pred):\n",
        "    \"\"\"\n",
        "    Can be used as the loss function in model.compile()\n",
        "    ---------------------------------------------------\n",
        "    \"\"\"\n",
        "    \n",
        "    class_weights = np.array([1., 2., 2., 2.])\n",
        "    \n",
        "    eps = K.epsilon()\n",
        "    \n",
        "    y_pred = K.clip(y_pred, eps, 1.0-eps)\n",
        "\n",
        "    out = -(         y_true  * K.log(      y_pred) * class_weights\n",
        "            + (1.0 - y_true) * K.log(1.0 - y_pred) * class_weights)\n",
        "    \n",
        "    return K.mean(out, axis=-1)\n",
        "\n",
        "\n",
        "def _normalized_weighted_average(arr, weights=None):\n",
        "    \"\"\"\n",
        "    A simple Keras implementation that mimics that of \n",
        "    numpy.average(), specifically for the this competition\n",
        "    \"\"\"\n",
        "    \n",
        "    if weights is not None:\n",
        "        scl = K.sum(weights)\n",
        "        weights = K.expand_dims(weights, axis=1)\n",
        "        return K.sum(K.dot(arr, weights), axis=1) / scl\n",
        "    return K.mean(arr, axis=1)\n",
        "\n",
        "\n",
        "def weighted_loss(y_true, y_pred):\n",
        "    \"\"\"\n",
        "    Will be used as the metric in model.compile()\n",
        "    ---------------------------------------------\n",
        "    \n",
        "    Similar to the custom loss function 'weighted_log_loss()' above\n",
        "    but with normalized weights, which should be very similar \n",
        "    to the official competition metric:\n",
        "        https://www.kaggle.com/kambarakun/lb-probe-weights-n-of-positives-scoring\n",
        "    and hence:\n",
        "        sklearn.metrics.log_loss with sample weights\n",
        "    \"\"\"\n",
        "    \n",
        "    class_weights = K.variable([1., 2., 2., 2.])\n",
        "    \n",
        "    eps = K.epsilon()\n",
        "    \n",
        "    y_pred = K.clip(y_pred, eps, 1.0-eps)\n",
        "\n",
        "    loss = -(        y_true  * K.log(      y_pred)\n",
        "            + (1.0 - y_true) * K.log(1.0 - y_pred))\n",
        "    \n",
        "    loss_samples = _normalized_weighted_average(loss, class_weights)\n",
        "    \n",
        "    return K.mean(loss_samples)\n",
        "\n",
        "\n",
        "def weighted_log_loss_metric(trues, preds):\n",
        "    \"\"\"\n",
        "    Will be used to calculate the log loss \n",
        "    of the validation set in PredictionCheckpoint()\n",
        "    ------------------------------------------\n",
        "    \"\"\"\n",
        "    class_weights = [1., 2., 2., 2.]\n",
        "    \n",
        "    epsilon = 1e-7\n",
        "    \n",
        "    preds = np.clip(preds, epsilon, 1-epsilon)\n",
        "    loss = trues * np.log(preds) + (1 - trues) * np.log(1 - preds)\n",
        "    loss_samples = np.average(loss, axis=1, weights=class_weights)\n",
        "\n",
        "    return - loss_samples.mean()\n",
        "\n",
        "def sparse_categorical_crossentropy(y_true, y_pred, from_logits=False, axis=-1):\n",
        "    return K.sparse_categorical_crossentropy(\n",
        "        y_true, y_pred, from_logits=from_logits, axis=axis)"
      ],
      "execution_count": 0,
      "outputs": []
    },
    {
      "cell_type": "code",
      "metadata": {
        "id": "_WOiCkW0Hyhz",
        "colab_type": "code",
        "colab": {}
      },
      "source": [
        "#model = MyDeepModel(engine=ResNet50, input_dims=(224,224, 3),\n",
        "  #               batch_size=3, learning_rate=5e-5, n_classes=4\n",
        "    #             num_epochs=1, decay_rate=0.8, decay_steps=1,\n",
        "    #             weights='imagenet', loss =weighted_log_loss, verbose=2)\n",
        "\n",
        "#obtain test + validation predictions (history.test_predictions, history.valid_predictions)\n",
        "#history = model.fit_and_predict(df.iloc[train_idx], df.iloc[valid_idx], test_df)\n",
        "\n",
        "# Define the Keras TensorBoard callback.\n",
        "%load_ext tensorboard\n",
        "logdir=\"logs/fit/\" + datetime.now().strftime(\"%Y%m%d-%H%M%S\")\n",
        "tensorboard_callback = keras.callbacks.TensorBoard(log_dir=logdir)"
      ],
      "execution_count": 0,
      "outputs": []
    },
    {
      "cell_type": "markdown",
      "metadata": {
        "id": "6Iyq1X8R-Tqm",
        "colab_type": "text"
      },
      "source": [
        "### 3b. Model\n",
        "\n",
        "Model is divided into three parts: <br> \n",
        "\n",
        "* (REMOVED) The initial layer, which will transform/map input image of shape (\\_, \\_, 1) to another \"image\" of shape (\\_, \\_, 3).\n",
        "\n",
        "* The new input image is then passed through ResNet50 (which I named \"engine\"). ResNet50 could be replaced by any of the available architectures in keras_application.\n",
        "\n",
        "* Finally, the output from ResNet50 goes through average pooling followed by a dense output layer."
      ]
    },
    {
      "cell_type": "code",
      "metadata": {
        "id": "-KCkHGPm-Tqn",
        "colab_type": "code",
        "colab": {
          "base_uri": "https://localhost:8080/",
          "height": 233
        },
        "outputId": "07437223-4cce-4e85-8ee7-6d2e59819ee4"
      },
      "source": [
        "class PredictionCheckpoint(keras.callbacks.Callback):\n",
        "    \n",
        "    def __init__(self, test_df, valid_df, n_classes =4,\n",
        "                 test_images_dir=TEST_IMAGES_DIR, \n",
        "                 valid_images_dir=TRAIN_IMAGES_DIR, \n",
        "                 batch_size=32, input_size=(224, 224, 3)):\n",
        "        \n",
        "        self.test_df = test_df\n",
        "        self.valid_df = valid_df\n",
        "        self.test_images_dir = test_images_dir\n",
        "        self.valid_images_dir = valid_images_dir\n",
        "        self.batch_size = batch_size\n",
        "        self.input_size = input_size\n",
        "        self.n_classes = n_classes\n",
        "        \n",
        "        \n",
        "    def on_train_begin(self, logs={}):\n",
        "        self.test_predictions = []\n",
        "        self.valid_predictions = []\n",
        "        \n",
        "    def on_epoch_end(self,batch, logs={}):\n",
        "        self.test_predictions.append(\n",
        "            self.model.predict_generator(\n",
        "                DataGenerator(self.test_df.index, test_df,\n",
        "                              batch_size=self.batch_size, img_size=self.input_size, \n",
        "                              img_dir=self.test_images_dir, n_classes = self.n_classes,\n",
        "                              train =False, n_augment = 0, shuffle=True),\n",
        "                verbose=2)[:len(self.test_df)])\n",
        "        \n",
        "        self.valid_predictions.append(\n",
        "            self.model.predict_generator(\n",
        "                DataGenerator(self.valid_df.index, valid_df,\n",
        "                              batch_size=self.batch_size, img_size=self.input_size, \n",
        "                              img_dir=self.valid_images_dir, n_classes = self.n_classes,\n",
        "                              train =False, n_augment = 0, shuffle=True),\n",
        "                verbose=2)[:len(self.valid_df)])\n",
        "        valid_labels = np.zeros((self.valid_df.shape[0], self.n_classes))\n",
        "        valid_labels[np.arange(self.valid_df.shape[0]), self.valid_df['label']] = 1\n",
        "        print('valid_labels', valid_labels )\n",
        "        print('pred_labels', self.valid_predictions)\n",
        "        print(\"validation loss: %.4f\" %\n",
        "              weighted_log_loss_metric(valid_labels, \n",
        "                                   np.average(self.valid_predictions, axis=0)))\n",
        "        \n",
        "        # here you could save the predictions with np.save()\n",
        "\n",
        "\n",
        "class MyDeepModel:\n",
        "    \n",
        "    def __init__(self, engine, input_dims, batch_size=5, num_epochs=4,\n",
        "                 n_classes=4, learning_rate=1e-3, n_augment = 9,\n",
        "                 decay_rate=1.0, decay_steps=1, weights=WEIGHTS_PATH_NO_TOP, verbose=1):\n",
        "        \n",
        "        self.engine = engine\n",
        "        self.input_dims = input_dims\n",
        "        self.batch_size = batch_size\n",
        "        self.num_epochs = num_epochs\n",
        "        self.n_classes = n_classes\n",
        "        self.learning_rate = learning_rate\n",
        "        self.decay_rate = decay_rate\n",
        "        self.decay_steps = decay_steps\n",
        "        self.n_augment = n_augment\n",
        "        self.weights = weights\n",
        "        self.verbose = verbose\n",
        "        self._build()\n",
        "\n",
        "    def _build(self):\n",
        "        self.engine.trainable = True\n",
        "        \n",
        "      \n",
        "    \n",
        "        engine = self.engine(include_top=False,\n",
        "                             weights=self.weights, input_shape=(*self.input_dims[:2], 3),\n",
        "                             backend = keras.backend, layers = keras.layers, \n",
        "                             models = keras.models, utils = keras.utils,)\n",
        "        set_trainable = False\n",
        "        for layer in engine.layers:\n",
        "            if layer.name in ['res5c_branch2b', 'res5c_branch2c', 'activation_97']:\n",
        "              set_trainable = True\n",
        "            if set_trainable:\n",
        "              layer.trainable = True\n",
        "            else:\n",
        "              layer.trainable = False\n",
        "        x = keras.layers.GlobalAveragePooling2D(name='avg_pool')(engine.output)\n",
        "        out = keras.layers.Dense(self.n_classes, activation=\"sigmoid\", name='dense_output')(x)\n",
        "\n",
        "        self.model = keras.models.Model(inputs=engine.input, outputs=out)\n",
        "        # loss function has been changed needs to be investigated.\n",
        "        self.model.compile(loss='categorical_crossentropy',\n",
        "                           optimizer=keras.optimizers.Adam(0.0),\n",
        "                           metrics=['accuracy'])\n",
        "    \n",
        "\n",
        "    def fit_and_predict(self, train_df, valid_df, test_df):\n",
        "        \n",
        "        # callbacks\n",
        "        pred_history = PredictionCheckpoint(test_df, valid_df,\n",
        "                                            n_classes=self.n_classes,\n",
        "                                            batch_size=self.batch_size,\n",
        "                                            input_size=self.input_dims)\n",
        "        checkpointer = keras.callbacks.ModelCheckpoint(filepath='%s-{epoch:02d}.hdf5' % self.engine.__name__, verbose=1, save_weights_only=True, save_best_only=False)\n",
        "        scheduler = keras.callbacks.LearningRateScheduler(lambda epoch: self.learning_rate * pow(self.decay_rate, floor(epoch / self.decay_steps)))\n",
        "        self.model.fit_generator(\n",
        "            DataGenerator(\n",
        "                list_IDs = train_df.index, \n",
        "                img_labels = train_df,\n",
        "                batch_size=self.batch_size,\n",
        "                img_size=self.input_dims,\n",
        "                img_dir=TRAIN_IMAGES_DIR,\n",
        "                n_classes = self.n_classes,\n",
        "                train=True,\n",
        "                n_augment = self.n_augment,\n",
        "                shuffle = True\n",
        "            ),\n",
        "            epochs=self.num_epochs,\n",
        "            verbose=self.verbose,\n",
        "            use_multiprocessing=True,\n",
        "            workers=4#,\n",
        "            #callbacks=[history]\n",
        "            #callbacks=[tensorboard_callback]\n",
        "        )\n",
        "        \n",
        "        return pred_history\n",
        "    def predict(self, image_name, path2image=TRAIN_IMAGES_DIR):\n",
        "        #### Predict one image at a time\n",
        "        X = _read( path2image + image_name, self.input_dims,0, plot=False)\n",
        "        res = self.model.predict(X, batch_size=1)\n",
        "        return res\n",
        "    \n",
        "    def save(self, path):\n",
        "        self.model.save_weights(path)\n",
        "    \n",
        "    def load(self, path):\n",
        "        self.model.load_weights(path)"
      ],
      "execution_count": 1,
      "outputs": [
        {
          "output_type": "error",
          "ename": "NameError",
          "evalue": "ignored",
          "traceback": [
            "\u001b[0;31m---------------------------------------------------------------------------\u001b[0m",
            "\u001b[0;31mNameError\u001b[0m                                 Traceback (most recent call last)",
            "\u001b[0;32m<ipython-input-1-ad11dec95ed9>\u001b[0m in \u001b[0;36m<module>\u001b[0;34m()\u001b[0m\n\u001b[0;32m----> 1\u001b[0;31m \u001b[0;32mclass\u001b[0m \u001b[0mPredictionCheckpoint\u001b[0m\u001b[0;34m(\u001b[0m\u001b[0mkeras\u001b[0m\u001b[0;34m.\u001b[0m\u001b[0mcallbacks\u001b[0m\u001b[0;34m.\u001b[0m\u001b[0mCallback\u001b[0m\u001b[0;34m)\u001b[0m\u001b[0;34m:\u001b[0m\u001b[0;34m\u001b[0m\u001b[0;34m\u001b[0m\u001b[0m\n\u001b[0m\u001b[1;32m      2\u001b[0m \u001b[0;34m\u001b[0m\u001b[0m\n\u001b[1;32m      3\u001b[0m     def __init__(self, test_df, valid_df, n_classes =4,\n\u001b[1;32m      4\u001b[0m                  \u001b[0mtest_images_dir\u001b[0m\u001b[0;34m=\u001b[0m\u001b[0mTEST_IMAGES_DIR\u001b[0m\u001b[0;34m,\u001b[0m\u001b[0;34m\u001b[0m\u001b[0;34m\u001b[0m\u001b[0m\n\u001b[1;32m      5\u001b[0m                  \u001b[0mvalid_images_dir\u001b[0m\u001b[0;34m=\u001b[0m\u001b[0mTRAIN_IMAGES_DIR\u001b[0m\u001b[0;34m,\u001b[0m\u001b[0;34m\u001b[0m\u001b[0;34m\u001b[0m\u001b[0m\n",
            "\u001b[0;31mNameError\u001b[0m: name 'keras' is not defined"
          ]
        }
      ]
    },
    {
      "cell_type": "code",
      "metadata": {
        "id": "D-siq1_GxoP1",
        "colab_type": "code",
        "outputId": "4e45c8c9-50ff-4bd3-a629-9334137e5b23",
        "colab": {
          "base_uri": "https://localhost:8080/",
          "height": 34
        }
      },
      "source": [
        "WEIGHTS_PATH_NO_TOP"
      ],
      "execution_count": 0,
      "outputs": [
        {
          "output_type": "execute_result",
          "data": {
            "text/plain": [
              "'resnet50_weights_tf_dim_ordering_tf_kernels_notop.h5'"
            ]
          },
          "metadata": {
            "tags": []
          },
          "execution_count": 14
        }
      ]
    },
    {
      "cell_type": "markdown",
      "metadata": {
        "id": "Kx7Fww_f-Tqt",
        "colab_type": "text"
      },
      "source": [
        "### 4. Read csv files\n"
      ]
    },
    {
      "cell_type": "code",
      "metadata": {
        "id": "SWt5X9Fa-Tqu",
        "colab_type": "code",
        "colab": {}
      },
      "source": [
        "def read_testset(filename=\"drive/My Drive/data/classification_labels.txt\"):\n",
        "    ''' \n",
        "    Data in data folder\n",
        "    '''\n",
        "    df = pd.read_csv(filename, sep=\" \", header=None)\n",
        "    df.columns = [\"ID\", \"label\"]\n",
        "    return df\n",
        "\n",
        "def read_trainset(filename=\"drive/My Drive/data/classification_labels.txt\"):\n",
        "    df = pd.read_csv(filename, sep=\" \", header=None)\n",
        "    df.columns = [\"ID\", \"label\"]\n",
        "    return df\n",
        "\n",
        "    \n",
        "test_df = read_testset()\n",
        "df = read_trainset()"
      ],
      "execution_count": 0,
      "outputs": []
    },
    {
      "cell_type": "code",
      "metadata": {
        "id": "_fVDXUo3-Tq6",
        "colab_type": "code",
        "outputId": "b4f4644c-07d1-45d4-b48a-14c86b2fcf05",
        "colab": {
          "base_uri": "https://localhost:8080/",
          "height": 138
        }
      },
      "source": [
        "df.head(3)"
      ],
      "execution_count": 0,
      "outputs": [
        {
          "output_type": "execute_result",
          "data": {
            "text/html": [
              "<div>\n",
              "<style scoped>\n",
              "    .dataframe tbody tr th:only-of-type {\n",
              "        vertical-align: middle;\n",
              "    }\n",
              "\n",
              "    .dataframe tbody tr th {\n",
              "        vertical-align: top;\n",
              "    }\n",
              "\n",
              "    .dataframe thead th {\n",
              "        text-align: right;\n",
              "    }\n",
              "</style>\n",
              "<table border=\"1\" class=\"dataframe\">\n",
              "  <thead>\n",
              "    <tr style=\"text-align: right;\">\n",
              "      <th></th>\n",
              "      <th>ID</th>\n",
              "      <th>label</th>\n",
              "    </tr>\n",
              "  </thead>\n",
              "  <tbody>\n",
              "    <tr>\n",
              "      <th>0</th>\n",
              "      <td>image0</td>\n",
              "      <td>3</td>\n",
              "    </tr>\n",
              "    <tr>\n",
              "      <th>1</th>\n",
              "      <td>image1</td>\n",
              "      <td>3</td>\n",
              "    </tr>\n",
              "    <tr>\n",
              "      <th>2</th>\n",
              "      <td>image2</td>\n",
              "      <td>3</td>\n",
              "    </tr>\n",
              "  </tbody>\n",
              "</table>\n",
              "</div>"
            ],
            "text/plain": [
              "       ID  label\n",
              "0  image0      3\n",
              "1  image1      3\n",
              "2  image2      3"
            ]
          },
          "metadata": {
            "tags": []
          },
          "execution_count": 16
        }
      ]
    },
    {
      "cell_type": "code",
      "metadata": {
        "id": "wL4LR8Gw-TrA",
        "colab_type": "code",
        "outputId": "a907dc32-d9f9-47a5-ab11-a3f3fdb661eb",
        "colab": {
          "base_uri": "https://localhost:8080/",
          "height": 138
        }
      },
      "source": [
        "test_df.head(3)"
      ],
      "execution_count": 0,
      "outputs": [
        {
          "output_type": "execute_result",
          "data": {
            "text/html": [
              "<div>\n",
              "<style scoped>\n",
              "    .dataframe tbody tr th:only-of-type {\n",
              "        vertical-align: middle;\n",
              "    }\n",
              "\n",
              "    .dataframe tbody tr th {\n",
              "        vertical-align: top;\n",
              "    }\n",
              "\n",
              "    .dataframe thead th {\n",
              "        text-align: right;\n",
              "    }\n",
              "</style>\n",
              "<table border=\"1\" class=\"dataframe\">\n",
              "  <thead>\n",
              "    <tr style=\"text-align: right;\">\n",
              "      <th></th>\n",
              "      <th>ID</th>\n",
              "      <th>label</th>\n",
              "    </tr>\n",
              "  </thead>\n",
              "  <tbody>\n",
              "    <tr>\n",
              "      <th>0</th>\n",
              "      <td>image0</td>\n",
              "      <td>3</td>\n",
              "    </tr>\n",
              "    <tr>\n",
              "      <th>1</th>\n",
              "      <td>image1</td>\n",
              "      <td>3</td>\n",
              "    </tr>\n",
              "    <tr>\n",
              "      <th>2</th>\n",
              "      <td>image2</td>\n",
              "      <td>3</td>\n",
              "    </tr>\n",
              "  </tbody>\n",
              "</table>\n",
              "</div>"
            ],
            "text/plain": [
              "       ID  label\n",
              "0  image0      3\n",
              "1  image1      3\n",
              "2  image2      3"
            ]
          },
          "metadata": {
            "tags": []
          },
          "execution_count": 17
        }
      ]
    },
    {
      "cell_type": "markdown",
      "metadata": {
        "id": "1WEYOH5x-TrF",
        "colab_type": "text"
      },
      "source": [
        "### 5. Train model and predict\n",
        "\n",
        "*Using train, validation and test set* <br>\n",
        "\n",
        "Training for 6 epochs with Adam optimizer, with a learning rate of 0.0005 and decay rate of 0.8. The validation predictions are \\[exponentially weighted\\] averaged over all 6 epochs (same goes for the test set submission later). `fit_and_predict` returns validation and test predictions for all epochs.\n"
      ]
    },
    {
      "cell_type": "code",
      "metadata": {
        "id": "zQpkQBx8-TrG",
        "colab_type": "code",
        "outputId": "5084b3bd-0692-44da-a6d8-e7ea5c7404bc",
        "colab": {
          "base_uri": "https://localhost:8080/",
          "height": 1000
        }
      },
      "source": [
        "# train set (80%) and validation set (20%)\n",
        "ss = ShuffleSplit(n_splits=10, test_size=0.1, random_state=42).split(df.index)\n",
        "# lets go for the first fold only\n",
        "train_idx, valid_idx = next(ss)\n",
        "# obtain model\n",
        "model2 = MyDeepModel(engine=ResNet50, input_dims=(224, 224, 3), batch_size=3,\n",
        "                     learning_rate=5e-4, n_augment = 0,\n",
        "                    num_epochs=12, decay_rate=0.8, decay_steps=1, weights=\"imagenet\", verbose=2)\n",
        "# obtain test + validation predictions (history.test_predictions, history.valid_predictions)\n",
        "history = model2.fit_and_predict(df.iloc[train_idx], df.iloc[valid_idx], test_df)\n"
      ],
      "execution_count": 0,
      "outputs": [
        {
          "output_type": "stream",
          "text": [
            "Epoch 1/6\n",
            "Epoch 1/6\n",
            "Self image size (224, 224, 3)\n",
            "Self image size (224, 224, 3)\n",
            "Self image size (224, 224, 3)\n",
            "drive/My Drive/data/image1.jpg\n",
            "drive/My Drive/data/image7.jpg\n",
            "drive/My Drive/data/image2.jpg\n",
            "samples size in read: (10, 224, 224, 3)\n",
            "Dim data gen (10, 224, 224, 3)\n",
            "drive/My Drive/data/image4.jpg\n",
            "samples size in read: (10, 224, 224, 3)\n",
            "Dim data gen (10, 224, 224, 3)\n",
            "drive/My Drive/data/image0.jpg\n",
            "samples size in read: (10, 224, 224, 3)\n",
            "Dim data gen (10, 224, 224, 3)\n",
            "drive/My Drive/data/image9.jpg\n",
            "samples size in read: (10, 224, 224, 3)\n",
            "Dim data gen (10, 224, 224, 3)\n",
            "drive/My Drive/data/image6.jpg\n",
            "samples size in read: (10, 224, 224, 3)\n",
            "Dim data gen (10, 224, 224, 3)\n",
            "drive/My Drive/data/image3.jpg\n",
            "samples size in read: (10, 224, 224, 3)\n",
            "Dim data gen (10, 224, 224, 3)\n",
            "samples size in read: (10, 224, 224, 3)\n",
            "Dim data gen (10, 224, 224, 3)\n",
            "samples size in read: (10, 224, 224, 3)\n",
            "Dim data gen (10, 224, 224, 3)\n",
            "drive/My Drive/data/image5.jpg\n",
            "samples size in read: (10, 224, 224, 3)\n",
            "Dim data gen (10, 224, 224, 3)\n",
            "Self image size (224, 224, 3)\n",
            "Self image size (224, 224, 3)\n",
            "Self image size (224, 224, 3)\n",
            "drive/My Drive/data/image2.jpg\n",
            "drive/My Drive/data/image6.jpg\n",
            "drive/My Drive/data/image0.jpg\n",
            "samples size in read: (10, 224, 224, 3)\n",
            "Dim data gen (10, 224, 224, 3)\n",
            "drive/My Drive/data/image9.jpg\n",
            "samples size in read: (10, 224, 224, 3)\n",
            "Dim data gen (10, 224, 224, 3)\n",
            "drive/My Drive/data/image4.jpg\n",
            "samples size in read: (10, 224, 224, 3)\n",
            "Dim data gen (10, 224, 224, 3)\n",
            "drive/My Drive/data/image7.jpg\n",
            "samples size in read: (10, 224, 224, 3)\n",
            "Dim data gen (10, 224, 224, 3)\n",
            "drive/My Drive/data/image3.jpg\n",
            "samples size in read: (10, 224, 224, 3)\n",
            "Dim data gen (10, 224, 224, 3)\n",
            "drive/My Drive/data/image1.jpg\n",
            "samples size in read: (10, 224, 224, 3)\n",
            "Dim data gen (10, 224, 224, 3)\n",
            "samples size in read: (10, 224, 224, 3)\n",
            "Dim data gen (10, 224, 224, 3)\n",
            "samples size in read: (10, 224, 224, 3)\n",
            "Dim data gen (10, 224, 224, 3)\n",
            "drive/My Drive/data/image5.jpg\n",
            "samples size in read: (10, 224, 224, 3)\n",
            "Dim data gen (10, 224, 224, 3)\n",
            " - 11s - loss: nan - accuracy: 0.7333\n",
            "Epoch 2/6\n",
            "Self image size (224, 224, 3)\n",
            "Self image size (224, 224, 3)\n",
            "Self image size (224, 224, 3)\n",
            "drive/My Drive/data/image5.jpg\n",
            "drive/My Drive/data/image9.jpg\n",
            "drive/My Drive/data/image1.jpg\n",
            "samples size in read: (10, 224, 224, 3)\n",
            "Dim data gen (10, 224, 224, 3)\n",
            "samples size in read: (10, 224, 224, 3)\n",
            "Dim data gen (10, 224, 224, 3)\n",
            "drive/My Drive/data/image0.jpg\n",
            "drive/My Drive/data/image2.jpg\n",
            "samples size in read: (10, 224, 224, 3)\n",
            "Dim data gen (10, 224, 224, 3)\n",
            "drive/My Drive/data/image3.jpg\n",
            "samples size in read: (10, 224, 224, 3)\n",
            "Dim data gen (10, 224, 224, 3)\n",
            "drive/My Drive/data/image7.jpg\n",
            "samples size in read: (10, 224, 224, 3)\n",
            "Dim data gen (10, 224, 224, 3)\n",
            "drive/My Drive/data/image4.jpg\n",
            "samples size in read: (10, 224, 224, 3)\n",
            "Dim data gen (10, 224, 224, 3)\n",
            "drive/My Drive/data/image6.jpg\n",
            "samples size in read: (10, 224, 224, 3)\n",
            "Dim data gen (10, 224, 224, 3)\n",
            "samples size in read: (10, 224, 224, 3)\n",
            "Dim data gen (10, 224, 224, 3)\n",
            "samples size in read: (10, 224, 224, 3)\n",
            "Dim data gen (10, 224, 224, 3)\n",
            " - 8s - loss: nan - accuracy: 0.8333\n",
            "Epoch 3/6\n",
            "Self image size (224, 224, 3)\n",
            "Self image size (224, 224, 3)\n",
            "Self image size (224, 224, 3)\n",
            "drive/My Drive/data/image9.jpg\n",
            "drive/My Drive/data/image2.jpg\n",
            "drive/My Drive/data/image3.jpg\n",
            "samples size in read: (10, 224, 224, 3)\n",
            "Dim data gen (10, 224, 224, 3)\n",
            "drive/My Drive/data/image1.jpg\n",
            "samples size in read: (10, 224, 224, 3)\n",
            "Dim data gen (10, 224, 224, 3)\n",
            "drive/My Drive/data/image6.jpg\n",
            "samples size in read: (10, 224, 224, 3)\n",
            "Dim data gen (10, 224, 224, 3)\n",
            "drive/My Drive/data/image5.jpg\n",
            "samples size in read: (10, 224, 224, 3)\n",
            "Dim data gen (10, 224, 224, 3)\n",
            "drive/My Drive/data/image0.jpg\n",
            "samples size in read: (10, 224, 224, 3)\n",
            "Dim data gen (10, 224, 224, 3)\n",
            "drive/My Drive/data/image7.jpg\n",
            "samples size in read: (10, 224, 224, 3)\n",
            "Dim data gen (10, 224, 224, 3)\n",
            "samples size in read: (10, 224, 224, 3)\n",
            "Dim data gen (10, 224, 224, 3)\n",
            "drive/My Drive/data/image4.jpg\n",
            "samples size in read: (10, 224, 224, 3)\n",
            "Dim data gen (10, 224, 224, 3)\n",
            " - 9s - loss: nan - accuracy: 0.8444\n",
            "samples size in read: (10, 224, 224, 3)\n",
            "Dim data gen (10, 224, 224, 3)\n",
            "Epoch 4/6\n",
            "Self image size (224, 224, 3)\n",
            "Self image size (224, 224, 3)\n",
            "Self image size (224, 224, 3)\n",
            "drive/My Drive/data/image0.jpg\n",
            "drive/My Drive/data/image2.jpg\n",
            "drive/My Drive/data/image6.jpg\n",
            "samples size in read: (10, 224, 224, 3)\n",
            "Dim data gen (10, 224, 224, 3)\n",
            "drive/My Drive/data/image7.jpg\n",
            "samples size in read: (10, 224, 224, 3)\n",
            "Dim data gen (10, 224, 224, 3)\n",
            "drive/My Drive/data/image4.jpg\n",
            "samples size in read: (10, 224, 224, 3)\n",
            "Dim data gen (10, 224, 224, 3)\n",
            "drive/My Drive/data/image3.jpg\n",
            "samples size in read: (10, 224, 224, 3)\n",
            "Dim data gen (10, 224, 224, 3)\n",
            "drive/My Drive/data/image9.jpg\n",
            "samples size in read: (10, 224, 224, 3)\n",
            "Dim data gen (10, 224, 224, 3)\n",
            "drive/My Drive/data/image1.jpg\n",
            "samples size in read: (10, 224, 224, 3)\n",
            "Dim data gen (10, 224, 224, 3)\n",
            "samples size in read: (10, 224, 224, 3)\n",
            "Dim data gen (10, 224, 224, 3)\n",
            "samples size in read: (10, 224, 224, 3)\n",
            "Dim data gen (10, 224, 224, 3)\n",
            "drive/My Drive/data/image5.jpg\n",
            "samples size in read: (10, 224, 224, 3)\n",
            "Dim data gen (10, 224, 224, 3)\n",
            " - 9s - loss: nan - accuracy: 0.8444\n",
            "Epoch 5/6\n",
            "Self image size (224, 224, 3)\n",
            "Self image size (224, 224, 3)\n",
            "Self image size (224, 224, 3)\n",
            "drive/My Drive/data/image5.jpg\n",
            "drive/My Drive/data/image3.jpg\n",
            "drive/My Drive/data/image2.jpg\n",
            "samples size in read: (10, 224, 224, 3)\n",
            "Dim data gen (10, 224, 224, 3)\n",
            "drive/My Drive/data/image9.jpg\n",
            "samples size in read: (10, 224, 224, 3)\n",
            "Dim data gen (10, 224, 224, 3)\n",
            "drive/My Drive/data/image0.jpg\n",
            "samples size in read: (10, 224, 224, 3)\n",
            "Dim data gen (10, 224, 224, 3)\n",
            "drive/My Drive/data/image1.jpg\n",
            "samples size in read: (10, 224, 224, 3)\n",
            "Dim data gen (10, 224, 224, 3)\n",
            "drive/My Drive/data/image4.jpg\n",
            "samples size in read: (10, 224, 224, 3)\n",
            "Dim data gen (10, 224, 224, 3)\n",
            "drive/My Drive/data/image6.jpg\n",
            "samples size in read: (10, 224, 224, 3)\n",
            "Dim data gen (10, 224, 224, 3)\n",
            "drive/My Drive/data/image7.jpg\n",
            "samples size in read: (10, 224, 224, 3)\n",
            "Dim data gen (10, 224, 224, 3)\n",
            "samples size in read: (10, 224, 224, 3)\n",
            "Dim data gen (10, 224, 224, 3)\n",
            "samples size in read: (10, 224, 224, 3)\n",
            "Dim data gen (10, 224, 224, 3)\n",
            " - 9s - loss: nan - accuracy: 0.8333\n",
            "Epoch 6/6\n",
            "Self image size (224, 224, 3)\n",
            "Self image size (224, 224, 3)\n",
            "Self image size (224, 224, 3)\n",
            "drive/My Drive/data/image9.jpg\n",
            "drive/My Drive/data/image0.jpg\n",
            "drive/My Drive/data/image4.jpg\n",
            "samples size in read: (10, 224, 224, 3)\n",
            "Dim data gen (10, 224, 224, 3)\n",
            "drive/My Drive/data/image5.jpg\n",
            "samples size in read: (10, 224, 224, 3)\n",
            "Dim data gen (10, 224, 224, 3)\n",
            "drive/My Drive/data/image1.jpg\n",
            "samples size in read: (10, 224, 224, 3)\n",
            "Dim data gen (10, 224, 224, 3)\n",
            "drive/My Drive/data/image7.jpg\n",
            "samples size in read: (10, 224, 224, 3)\n",
            "Dim data gen (10, 224, 224, 3)\n",
            "drive/My Drive/data/image2.jpg\n",
            "samples size in read: (10, 224, 224, 3)\n",
            "Dim data gen (10, 224, 224, 3)\n",
            "samples size in read: (10, 224, 224, 3)\n",
            "Dim data gen (10, 224, 224, 3)\n",
            "drive/My Drive/data/image3.jpg\n",
            "samples size in read: (10, 224, 224, 3)\n",
            "Dim data gen (10, 224, 224, 3)\n",
            "samples size in read: (10, 224, 224, 3)\n",
            "Dim data gen (10, 224, 224, 3)\n",
            "drive/My Drive/data/image6.jpg\n",
            "samples size in read: (10, 224, 224, 3)\n",
            "Dim data gen (10, 224, 224, 3)\n",
            " - 9s - loss: nan - accuracy: 0.7333\n"
          ],
          "name": "stdout"
        }
      ]
    },
    {
      "cell_type": "code",
      "metadata": {
        "id": "4YfFbPCQWwZP",
        "colab_type": "code",
        "outputId": "e2bd010f-21d0-4a38-d7b3-d39cb03c8357",
        "colab": {
          "base_uri": "https://localhost:8080/",
          "height": 85
        }
      },
      "source": [
        "!pip install pyyaml h5py "
      ],
      "execution_count": 0,
      "outputs": [
        {
          "output_type": "stream",
          "text": [
            "Requirement already satisfied: pyyaml in /usr/local/lib/python3.6/dist-packages (3.13)\n",
            "Requirement already satisfied: h5py in /usr/local/lib/python3.6/dist-packages (2.10.0)\n",
            "Requirement already satisfied: six in /usr/local/lib/python3.6/dist-packages (from h5py) (1.12.0)\n",
            "Requirement already satisfied: numpy>=1.7 in /usr/local/lib/python3.6/dist-packages (from h5py) (1.18.3)\n"
          ],
          "name": "stdout"
        }
      ]
    },
    {
      "cell_type": "code",
      "metadata": {
        "id": "TN62nd8AWY9X",
        "colab_type": "code",
        "colab": {}
      },
      "source": [
        "model.save('data\\final_weight.h5')\n"
      ],
      "execution_count": 0,
      "outputs": []
    },
    {
      "cell_type": "markdown",
      "metadata": {
        "id": "uCRk9n8S0E7V",
        "colab_type": "text"
      },
      "source": [
        "Using the Tensor graph analysis"
      ]
    },
    {
      "cell_type": "markdown",
      "metadata": {
        "id": "XUscXfsW-TrO",
        "colab_type": "text"
      },
      "source": [
        "### 6. Submit test predictions"
      ]
    },
    {
      "cell_type": "code",
      "metadata": {
        "id": "ghTcolzR-TrQ",
        "colab_type": "code",
        "colab": {}
      },
      "source": [
        "test_df.iloc[:, :] = np.average(history.test_predictions, axis=0, weights=[2**i for i in range(len(history.test_predictions))])\n",
        "test_df = test_df.stack().reset_index()\n",
        "\n",
        "test_df.insert(loc=0, column='ID', value=test_df['Image'].astype(str) + \"_\" + test_df['Diagnosis'])\n",
        "\n",
        "test_df = test_df.drop([\"Image\", \"Diagnosis\"], axis=1)\n",
        "\n",
        "test_df.to_csv('submission.csv', index=False)"
      ],
      "execution_count": 0,
      "outputs": []
    },
    {
      "cell_type": "markdown",
      "metadata": {
        "id": "UX2ywVS5YkWN",
        "colab_type": "text"
      },
      "source": [
        ""
      ]
    },
    {
      "cell_type": "markdown",
      "metadata": {
        "id": "pur_H8QUiBsp",
        "colab_type": "text"
      },
      "source": [
        "### 7. Integrating questionnaire data\n",
        "\n",
        "Add:\n",
        " + Questionnaire information\n",
        " + County information"
      ]
    },
    {
      "cell_type": "code",
      "metadata": {
        "colab_type": "code",
        "id": "1huwRCSMlyMn",
        "colab": {}
      },
      "source": [
        "df['When did the individual first have COVID-19 symptoms?'].apply(lambda x: datetime.strptime(x, \"%m/%d/%y\"))"
      ],
      "execution_count": 0,
      "outputs": []
    },
    {
      "cell_type": "markdown",
      "metadata": {
        "id": "1YktBNQzrITO",
        "colab_type": "text"
      },
      "source": [
        ""
      ]
    },
    {
      "cell_type": "code",
      "metadata": {
        "id": "U1wPszZonG1b",
        "colab_type": "code",
        "colab": {}
      },
      "source": [
        "df['Has the individual had close contact with anyone who has:']"
      ],
      "execution_count": 0,
      "outputs": []
    },
    {
      "cell_type": "code",
      "metadata": {
        "id": "ambEo5XpmlPJ",
        "colab_type": "code",
        "colab": {}
      },
      "source": [
        "df.columns"
      ],
      "execution_count": 0,
      "outputs": []
    },
    {
      "cell_type": "code",
      "metadata": {
        "id": "XeRjNxMUiO7T",
        "colab_type": "code",
        "colab": {}
      },
      "source": [
        "def preprocessing_questionnaire(df):\n",
        "  #### parse the columns:\n",
        "  df['day'] = 0\n",
        "  df['month'] = 0\n",
        "  df['year'] = 0\n",
        "  ### age:\n",
        "  df['age'] = df['How old is the individual?'].apply(lambda x: 0 * (x == '0-18') + 1 * (x == '19-35') \\\n",
        " + 2 * (x == '36-50') + 3 * (x == '51-65') + 4 * (x == '66-85') + 5 * (x == '85+')  )\n",
        "  df['PCR']  = df['Has the individual had a positive RT-PCR result?'].apply(lambda x: 0 * (x == 'No, they have not taken a test.') \\\n",
        "                                                                            + 1 * ( x == 'Yes, they took a PCR test and got a negative r...')\n",
        "                                                                            + 2 * (x == 'Yes, they took a PCR test and got a positive r...') )\n",
        "  #### Need to check where are all the entries\n",
        "  df['Chills'] = 0\n",
        "  df['Cough'] = 0\n",
        "  df['Fatigue'] = 0\n",
        "  df['Fever'] = 0\n",
        "  df['Loss of smell and taste'] = 0\n",
        "  df['Muscle soreness'] = 0\n",
        "  df['Sore throat'] = 0\n",
        "  for i in range(df.shape[0]):\n",
        "    month, day, year = df['Timestamp'].iloc[0].split(' ')[0].split('/')\n",
        "    df['day'].iloc[i] = int(day)\n",
        "    df['month'].iloc[i] = int(month)\n",
        "    df['year'].iloc[i] = int(year)\n",
        "    symptoms = df['Did the individual have any COVID-19 symptoms? (Tick all that apply)'].iloc[i].split(', ')\n",
        "    for symp in symptoms:\n",
        "      df[symp].iloc[i] = 1\n",
        "  df['sympt_onset'] =  0  ### TO DO: current problem with the dataset (M/D D/M)\n",
        "  return df\n",
        "    \n",
        "\n"
      ],
      "execution_count": 0,
      "outputs": []
    },
    {
      "cell_type": "markdown",
      "metadata": {
        "id": "tduR_eIY-Trc",
        "colab_type": "text"
      },
      "source": [
        "### 8. Improvements\n",
        "\n",
        "\n",
        "Some improvements that could possibly be made:<br>\n",
        "* Image augmentation (which can be put in `_read()`)\n",
        "* Different learning rate and learning rate schedule\n",
        "* Increased input size\n",
        "* Train longer\n",
        "* Add dense layer and regularization (e.g. `keras.layers.Dropout()` before the output layer)\n",
        "* Adding some optimal windowing\n",
        "<br>\n",
        "<br>\n",
        "*Feel free to comment!*\n"
      ]
    }
  ]
}